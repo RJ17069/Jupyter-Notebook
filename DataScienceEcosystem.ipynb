{
 "cells": [
  {
   "cell_type": "markdown",
   "id": "876855e6-c86b-41bd-a713-39a093c3f731",
   "metadata": {},
   "source": [
    "# Data Science Tools and Ecosystem"
   ]
  },
  {
   "cell_type": "markdown",
   "id": "181e7192-300d-44e2-9838-0f88a54247fb",
   "metadata": {},
   "source": [
    "In this notebook, Data Science Tools and Ecosystem are summarized."
   ]
  },
  {
   "cell_type": "markdown",
   "id": "0d8d856f-ff5d-40d7-bbeb-b2bb0a45627e",
   "metadata": {},
   "source": [
    "**Objectives:**\n",
    "- List of data science tools\n",
    "- List of data science popular languages\n",
    "- List of data science libraries\n",
    "- About APIs (Application Programming Interfaces)\n",
    "- About Machine learning models\n",
    "- About Jupyter notebook"
   ]
  },
  {
   "cell_type": "markdown",
   "id": "d30285df-aa06-44ce-a328-d5c47e877d48",
   "metadata": {},
   "source": [
    "## Author\n",
    "Ritvik Johnson"
   ]
  },
  {
   "cell_type": "markdown",
   "id": "5aa4b7c4-064e-4c6a-9c4e-f3d2a16bcf8c",
   "metadata": {},
   "source": [
    "Some of the popular languages that Data Scientists use are:\n",
    "1. Python\r",
    "2. R\n",
    "3. Scala\n",
    "4. Java\n",
    "5. JavaScript\n",
    "6. C++\n",
    "7. JuliaScript"
   ]
  },
  {
   "attachments": {},
   "cell_type": "markdown",
   "id": "a934935f-1218-4839-8bda-13cfe4dbdb88",
   "metadata": {},
   "source": [
    "Some of the commonly used libraries used by Data Scientists include:\n",
    "\n",
    "1. Pandas\n",
    "2. NumPy\n",
    "3. Matplotlib\n",
    "4. Seaborn\n",
    "5. Scikit-learn\n",
    "6. Keras\n",
    "7. TensorFlow\n",
    "8. PyTorch"
   ]
  },
  {
   "cell_type": "markdown",
   "id": "fe6a9e1c-7fe9-4099-b09f-94f6ac13ca39",
   "metadata": {},
   "source": [
    "|Data Science Tools|\n",
    "|------------------|\n",
    "|Jupyter Notebook|\n",
    "|Apache Zeppelin|\n",
    "|R Studio|"
   ]
  },
  {
   "cell_type": "markdown",
   "id": "7e34a202-55ce-45a7-8cb8-220348b77a7d",
   "metadata": {},
   "source": [
    "### Below are a few examples of evaluating arithmetic expressions in Python"
   ]
  },
  {
   "cell_type": "code",
   "execution_count": 4,
   "id": "22a5ccc9-3bb2-48c4-b448-27cbb9954759",
   "metadata": {},
   "outputs": [
    {
     "data": {
      "text/plain": [
       "17"
      ]
     },
     "execution_count": 4,
     "metadata": {},
     "output_type": "execute_result"
    }
   ],
   "source": [
    "#This a simple arithmetic expression to mutiply then add integers\n",
    "\n",
    "(3*4)+5"
   ]
  },
  {
   "cell_type": "code",
   "execution_count": 6,
   "id": "cf01d2fd-b7b1-4375-94d3-f84c4643e0ef",
   "metadata": {},
   "outputs": [
    {
     "name": "stdout",
     "output_type": "stream",
     "text": [
      "3\n"
     ]
    }
   ],
   "source": [
    "#This will convert 200 minutes to hours by diving by 60\n",
    "\n",
    "Minutes = 200 // 60\n",
    "print(Minutes)"
   ]
  },
  {
   "cell_type": "code",
   "execution_count": null,
   "id": "5e76b11e-c91f-42ef-85ef-b3b65548c7d2",
   "metadata": {},
   "outputs": [],
   "source": []
  }
 ],
 "metadata": {
  "kernelspec": {
   "display_name": "Python 3 (ipykernel)",
   "language": "python",
   "name": "python3"
  },
  "language_info": {
   "codemirror_mode": {
    "name": "ipython",
    "version": 3
   },
   "file_extension": ".py",
   "mimetype": "text/x-python",
   "name": "python",
   "nbconvert_exporter": "python",
   "pygments_lexer": "ipython3",
   "version": "3.12.0"
  }
 },
 "nbformat": 4,
 "nbformat_minor": 5
}
